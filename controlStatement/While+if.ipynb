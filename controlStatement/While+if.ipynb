{
 "cells": [
  {
   "cell_type": "code",
   "execution_count": 8,
   "metadata": {},
   "outputs": [],
   "source": [
    "# tvList = ['UN40EN001','LEDTV_UN40EN002','LEDTV_LEDTV_UN40EN003','ledtv_UN40EN004']\n",
    "#리스트에서 LEDTV_가 한 개만 앞에 붙도록 하세요"
   ]
  },
  {
   "cell_type": "code",
   "execution_count": 9,
   "metadata": {},
   "outputs": [],
   "source": [
    "tvList = ['UN40EN001','LEDTV_UN40EN002','LEDTV_LEDTV_UN40EN003','Ledtv_UN40EN004']"
   ]
  },
  {
   "cell_type": "code",
   "execution_count": 10,
   "metadata": {},
   "outputs": [],
   "source": [
    "preFix = \"LEDTV_\"\n",
    "LenTvList = len(tvList)"
   ]
  },
  {
   "cell_type": "code",
   "execution_count": 11,
   "metadata": {},
   "outputs": [
    {
     "name": "stdout",
     "output_type": "stream",
     "text": [
      "['LEDTV_UN40EN001', 'LEDTV_UN40EN002', 'LEDTV_UN40EN003', 'LEDTV_UN40EN004']\n"
     ]
    }
   ],
   "source": [
    "i = 0    # i = 0이라는 시작점을 주어야 while문은 동작한다. \n",
    "while (i < LenTvList):\n",
    "    tvList[i] = tvList[i].upper()\n",
    "    cntPreFix = tvList[i].count(preFix)\n",
    "    \n",
    "    if i >= 1:\n",
    "        tvList[i] = tvList[i].replace(preFix,\"\")\n",
    "        tvList[i] = preFix + tvList[i]\n",
    "    \n",
    "    else:\n",
    "        tvList[i] = preFix + tvList[i]\n",
    "    \n",
    "    i = i + 1   #i = 0 -> 1 -> 2 ... 로 진행하기 위해서 반드시 정의. or not 무한루프\n",
    "\n",
    "print(tvList)"
   ]
  },
  {
   "cell_type": "code",
   "execution_count": null,
   "metadata": {},
   "outputs": [],
   "source": []
  },
  {
   "cell_type": "code",
   "execution_count": 12,
   "metadata": {},
   "outputs": [],
   "source": [
    "#커피자판기 : while + if + break"
   ]
  },
  {
   "cell_type": "code",
   "execution_count": 13,
   "metadata": {},
   "outputs": [
    {
     "name": "stdin",
     "output_type": "stream",
     "text": [
      "돈을 넣어 주세요:  300\n"
     ]
    },
    {
     "name": "stdout",
     "output_type": "stream",
     "text": [
      "커피를 줍니다.\n"
     ]
    },
    {
     "name": "stdin",
     "output_type": "stream",
     "text": [
      "돈을 넣어 주세요:  400\n"
     ]
    },
    {
     "name": "stdout",
     "output_type": "stream",
     "text": [
      "거스름돈 100를 주고 커피를 줍니다.\n"
     ]
    },
    {
     "name": "stdin",
     "output_type": "stream",
     "text": [
      "돈을 넣어 주세요:  200\n"
     ]
    },
    {
     "name": "stdout",
     "output_type": "stream",
     "text": [
      "돈을 다시 돌려주고 커피를 주지 않습니다.\n",
      "남은 커피의 양은 1개입니다.\n"
     ]
    },
    {
     "name": "stdin",
     "output_type": "stream",
     "text": [
      "돈을 넣어 주세요:  500\n"
     ]
    },
    {
     "name": "stdout",
     "output_type": "stream",
     "text": [
      "거스름돈 200를 주고 커피를 줍니다.\n",
      "커피가 다 떨어졌습니다. 판매를 중지합니다.\n"
     ]
    }
   ],
   "source": [
    "coffee = 3 #커피 재고 3개\n",
    "while True:  #True라고 한 이유: 일단 계속 동작시키기 위해서\n",
    "    money = int(input(\"돈을 넣어 주세요: \")) #사용자 입력 기능: 사용자가 입력한 값을 money라는 변수로 선언\n",
    "    if money == 300:              # =: just pointer , == 값의 비교\n",
    "        print(\"커피를 줍니다.\")\n",
    "        coffee = coffee - 1\n",
    "    elif money > 300:\n",
    "        print(\"거스름돈 %d를 주고 커피를 줍니다.\" % (money - 300)) #문자열 중간에 변수를 넣기 위해 %d 사용.\n",
    "        coffee = coffee - 1\n",
    "    else:\n",
    "        print(\"돈을 다시 돌려주고 커피를 주지 않습니다.\")\n",
    "        print(\"남은 커피의 양은 %d개입니다.\" % coffee)\n",
    "    if coffee == 0:\n",
    "        print(\"커피가 다 떨어졌습니다. 판매를 중지합니다.\")\n",
    "        break  #break를 멈추지 않으면 while문이 계속 동작, 즉 사용자가 값을 계속 입력할 수 있다.\n",
    "    #while문의 위에서부터 아래로 순차적으로 작동하기 때문에, money의 조건을 판단하고 그 다음에 coffe의 조건을 판단한다."
   ]
  },
  {
   "cell_type": "code",
   "execution_count": null,
   "metadata": {},
   "outputs": [],
   "source": []
  },
  {
   "cell_type": "code",
   "execution_count": 14,
   "metadata": {},
   "outputs": [],
   "source": [
    "#while + if + pass: 1~10 중 3의 배수를 뺀 나머지만 출력하기"
   ]
  },
  {
   "cell_type": "code",
   "execution_count": 16,
   "metadata": {},
   "outputs": [
    {
     "name": "stdout",
     "output_type": "stream",
     "text": [
      "1\n",
      "2\n",
      "4\n",
      "5\n",
      "7\n",
      "8\n",
      "10\n"
     ]
    }
   ],
   "source": [
    "a = 1\n",
    "while (a <= 10): \n",
    "    remainderOfa = a % 3\n",
    "    \n",
    "    if remainderOfa == 0:\n",
    "        pass\n",
    "    else:\n",
    "        print(a)\n",
    "    a = a + 1"
   ]
  },
  {
   "cell_type": "code",
   "execution_count": null,
   "metadata": {},
   "outputs": [],
   "source": []
  },
  {
   "cell_type": "code",
   "execution_count": 17,
   "metadata": {},
   "outputs": [],
   "source": [
    "#while + if: 1~1000까지의 자연수 중 3의 배수의 합 구하기"
   ]
  },
  {
   "cell_type": "code",
   "execution_count": 2,
   "metadata": {},
   "outputs": [
    {
     "name": "stdout",
     "output_type": "stream",
     "text": [
      "166833\n"
     ]
    }
   ],
   "source": [
    "Sum = 0\n",
    "j = 1\n",
    "while (j <= 1000):\n",
    "    if j % 3 == 0:\n",
    "        Sum = Sum + j\n",
    "        j = j + 1\n",
    "    \n",
    "    else:\n",
    "        j = j + 1        \n",
    "\n",
    "print(Sum)        "
   ]
  },
  {
   "cell_type": "code",
   "execution_count": null,
   "metadata": {},
   "outputs": [],
   "source": []
  },
  {
   "cell_type": "code",
   "execution_count": 3,
   "metadata": {},
   "outputs": [],
   "source": [
    "#while + if: *표시"
   ]
  },
  {
   "cell_type": "code",
   "execution_count": 16,
   "metadata": {},
   "outputs": [
    {
     "name": "stdout",
     "output_type": "stream",
     "text": [
      "*\n",
      "**\n",
      "***\n",
      "****\n",
      "*****\n"
     ]
    }
   ],
   "source": [
    "k = 0\n",
    "while (k < 5):\n",
    "    l = 0\n",
    "    while (l <= k):\n",
    "        print(\"*\", end = \"\")\n",
    "        l = l + 1\n",
    "    k = k + 1\n",
    "    print(\"\")"
   ]
  },
  {
   "cell_type": "code",
   "execution_count": 17,
   "metadata": {},
   "outputs": [],
   "source": [
    "#문자열 곱하기 기능 사용"
   ]
  },
  {
   "cell_type": "code",
   "execution_count": 20,
   "metadata": {},
   "outputs": [
    {
     "name": "stdout",
     "output_type": "stream",
     "text": [
      "*\n",
      "**\n",
      "***\n",
      "****\n",
      "*****\n"
     ]
    }
   ],
   "source": [
    "m = 0\n",
    "while (m < 5):\n",
    "    m = m + 1     #이걸 시작점에 두느냐 끝점에 두느냐의 차이는 m이 0부터 시작하냐 1부터 시작하냐의 차이\n",
    "    print(\"*\" * m)"
   ]
  },
  {
   "cell_type": "code",
   "execution_count": null,
   "metadata": {},
   "outputs": [],
   "source": []
  }
 ],
 "metadata": {
  "kernelspec": {
   "display_name": "Python 3",
   "language": "python",
   "name": "python3"
  },
  "language_info": {
   "codemirror_mode": {
    "name": "ipython",
    "version": 3
   },
   "file_extension": ".py",
   "mimetype": "text/x-python",
   "name": "python",
   "nbconvert_exporter": "python",
   "pygments_lexer": "ipython3",
   "version": "3.7.6"
  }
 },
 "nbformat": 4,
 "nbformat_minor": 4
}
