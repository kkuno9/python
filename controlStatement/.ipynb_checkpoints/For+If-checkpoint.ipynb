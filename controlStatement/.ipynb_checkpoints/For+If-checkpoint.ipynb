{
 "cells": [
  {
   "cell_type": "code",
   "execution_count": 1,
   "metadata": {},
   "outputs": [],
   "source": [
    "#tvList = ['UN40EN001','LEDTV_UN40EN002','LEDTV_LEDTV_UN40EN003','ledtv_UN40EN004']\n",
    "#리스트에서 LEDTV_가 한 개만 앞에 붙도록 하세요"
   ]
  },
  {
   "cell_type": "code",
   "execution_count": 2,
   "metadata": {},
   "outputs": [],
   "source": [
    "tvList = ['UN40EN001','LEDTV_UN40EN002','LEDTV_LEDTV_UN40EN003','Ledtv_UN40EN004']"
   ]
  },
  {
   "cell_type": "code",
   "execution_count": 3,
   "metadata": {},
   "outputs": [],
   "source": [
    "preFix = \"LEDTV_\"\n",
    "LenTvList = len(tvList)"
   ]
  },
  {
   "cell_type": "code",
   "execution_count": 4,
   "metadata": {},
   "outputs": [
    {
     "name": "stdout",
     "output_type": "stream",
     "text": [
      "['LEDTV_UN40EN001', 'LEDTV_UN40EN002', 'LEDTV_UN40EN003', 'LEDTV_UN40EN004']\n"
     ]
    }
   ],
   "source": [
    "for i in range(0,LenTvList,1):\n",
    "    tvList[i] = tvList[i].upper()  #리스트의 각 요소를 우선 대문자로 만들기\n",
    "    cntPreFix = tvList[i].count(preFix)\n",
    "    \n",
    "    if  cntPreFix >= 1:\n",
    "        tvList[i] = tvList[i].replace(preFix,\"\")  #앞에 preFix가 몇개 붙어있든 모두 삭제 후\n",
    "        tvList[i] = preFix + tvList[i]            #하나만 붙이기\n",
    "        \n",
    "    else:\n",
    "        tvList[i] = preFix + tvList[i]            #하나도 안 붙은 경우 하나만 붙이기\n",
    "        \n",
    "print(tvList)"
   ]
  }
 ],
 "metadata": {
  "kernelspec": {
   "display_name": "Python 3",
   "language": "python",
   "name": "python3"
  },
  "language_info": {
   "codemirror_mode": {
    "name": "ipython",
    "version": 3
   },
   "file_extension": ".py",
   "mimetype": "text/x-python",
   "name": "python",
   "nbconvert_exporter": "python",
   "pygments_lexer": "ipython3",
   "version": "3.7.6"
  }
 },
 "nbformat": 4,
 "nbformat_minor": 4
}
