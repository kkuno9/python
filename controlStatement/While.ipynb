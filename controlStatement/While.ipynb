{
 "cells": [
  {
   "cell_type": "code",
   "execution_count": 2,
   "metadata": {},
   "outputs": [],
   "source": [
    "#tvList의 각 요소의 앞에 \"LEDTV_\"를 붙이기"
   ]
  },
  {
   "cell_type": "code",
   "execution_count": 3,
   "metadata": {},
   "outputs": [],
   "source": [
    "tvList = [\"UN40EN001\",\"UN40EN002\",\"UN40EN003\",\"UN40EN004\"]\n",
    "preFix = \"LEDTV_\"\n",
    "lenTvList = len(tvList)"
   ]
  },
  {
   "cell_type": "code",
   "execution_count": 4,
   "metadata": {},
   "outputs": [
    {
     "name": "stdout",
     "output_type": "stream",
     "text": [
      "['LEDTV_UN40EN001', 'LEDTV_UN40EN002', 'LEDTV_UN40EN003', 'LEDTV_UN40EN004']\n"
     ]
    }
   ],
   "source": [
    "i = 0 #while문의 시작점 설정을 위해 i값을 최초에 반드시 설정!\n",
    "while(i < lenTvList):\n",
    "    tvList[i] = preFix + tvList[i]\n",
    "    i = i + 1  ##<-이걸 설정하지 않으면 i = 0 으로 반복문 안에서 무한루프에 걸려버림\n",
    "\n",
    "print(tvList)"
   ]
  },
  {
   "cell_type": "code",
   "execution_count": 5,
   "metadata": {},
   "outputs": [],
   "source": [
    "# while의 장점: for에 비해 커스텀이 용이하다"
   ]
  },
  {
   "cell_type": "code",
   "execution_count": null,
   "metadata": {},
   "outputs": [],
   "source": []
  }
 ],
 "metadata": {
  "kernelspec": {
   "display_name": "Python 3",
   "language": "python",
   "name": "python3"
  },
  "language_info": {
   "codemirror_mode": {
    "name": "ipython",
    "version": 3
   },
   "file_extension": ".py",
   "mimetype": "text/x-python",
   "name": "python",
   "nbconvert_exporter": "python",
   "pygments_lexer": "ipython3",
   "version": "3.7.6"
  }
 },
 "nbformat": 4,
 "nbformat_minor": 4
}
