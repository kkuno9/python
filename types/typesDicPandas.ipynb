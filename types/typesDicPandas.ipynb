{
 "cells": [
  {
   "cell_type": "code",
   "execution_count": 1,
   "metadata": {},
   "outputs": [
    {
     "name": "stdout",
     "output_type": "stream",
     "text": [
      "{'name': 'jun', 'phone': '01093162598', 'birth': '0326'}\n"
     ]
    }
   ],
   "source": [
    "dic = {'name':'jun', 'phone':'01093162598', 'birth':'0326'}\n",
    "print(dic)"
   ]
  },
  {
   "cell_type": "code",
   "execution_count": 2,
   "metadata": {},
   "outputs": [
    {
     "data": {
      "text/plain": [
       "{1: 'a', 300: ['x', 'y', 'z']}"
      ]
     },
     "execution_count": 2,
     "metadata": {},
     "output_type": "execute_result"
    }
   ],
   "source": [
    "# 딕셔너리 키/밸류 추가\n",
    "a = {1:\"a\"}\n",
    "a[300] = [\"x\", \"y\", \"z\"]\n",
    "a"
   ]
  },
  {
   "cell_type": "code",
   "execution_count": 3,
   "metadata": {},
   "outputs": [
    {
     "data": {
      "text/plain": [
       "{300: ['x', 'y', 'z']}"
      ]
     },
     "execution_count": 3,
     "metadata": {},
     "output_type": "execute_result"
    }
   ],
   "source": [
    "# 딕셔너리 키/밸류 삭제\n",
    "del a[1] #키가 1인 밸류를 키와 함께 삭제 : 1:\"a\"\n",
    "a"
   ]
  },
  {
   "cell_type": "code",
   "execution_count": 5,
   "metadata": {},
   "outputs": [
    {
     "data": {
      "text/plain": [
       "36"
      ]
     },
     "execution_count": 5,
     "metadata": {},
     "output_type": "execute_result"
    }
   ],
   "source": [
    "# 딕셔너리에서 key 사용해 value 얻기\n",
    "age = {\"jun\":34, \"jo\":36}\n",
    "age[\"jo\"]"
   ]
  },
  {
   "cell_type": "code",
   "execution_count": 11,
   "metadata": {},
   "outputs": [],
   "source": [
    "# key가 중복될 경우 하나 빼고 나머지는 무시된다.\n",
    "# value에는 리스트를 쓸 수 있지만, key에는 리스트를 쓸 수 없다."
   ]
  },
  {
   "cell_type": "code",
   "execution_count": 12,
   "metadata": {},
   "outputs": [
    {
     "name": "stdout",
     "output_type": "stream",
     "text": [
      "dict_keys(['age', 'height', 'phone', 'birth'])\n",
      "<class 'dict_keys'>\n"
     ]
    }
   ],
   "source": [
    "# 딕셔너리 리스트 만들기\n",
    "jun = {\"age\":34, \"height\":176, \"phone\":\"01093162598\", \"birth\":19870326}\n",
    "junKeys = jun.keys() #딕셔너리의 키로 만들어진 리스트는 리스트 고유의 함수(append,sort 등)은 사용불가\n",
    "print(junKeys)\n",
    "print(type(junKeys))"
   ]
  },
  {
   "cell_type": "code",
   "execution_count": 13,
   "metadata": {},
   "outputs": [
    {
     "name": "stdout",
     "output_type": "stream",
     "text": [
      "<class 'list'>\n",
      "<class 'dict_keys'>\n"
     ]
    }
   ],
   "source": [
    "junList = list(jun.keys()) #리스트로 형변환 가능\n",
    "print(type(junList))\n",
    "list(junKeys) #딕셔너리의 키로 선언한 변수는 형변환 불가\n",
    "print(type(junKeys))"
   ]
  },
  {
   "cell_type": "code",
   "execution_count": 14,
   "metadata": {},
   "outputs": [
    {
     "name": "stdout",
     "output_type": "stream",
     "text": [
      "{'age': 34, 'height': 176, 'phone': '01093162598', 'birth': 19870326}\n",
      "dict_keys(['age', 'height', 'phone', 'birth'])\n",
      "['age', 'height', 'phone', 'birth']\n"
     ]
    }
   ],
   "source": [
    "print(jun)\n",
    "print(junKeys)\n",
    "print(junList)"
   ]
  },
  {
   "cell_type": "code",
   "execution_count": 15,
   "metadata": {},
   "outputs": [
    {
     "name": "stdout",
     "output_type": "stream",
     "text": [
      "{'name': 'sec', 'id': '300000', 'address': 'suwon', 'gender': 'male'}\n",
      "{'name': 'sec', 'id': '300000', 'address': 'busan', 'gender': 'male'}\n",
      "{'name': 'sec', 'address': 'busan', 'gender': 'male'}\n"
     ]
    }
   ],
   "source": [
    "#키 밸류 추가,변경,삭제\n",
    "dict = {\"name\":\"sec\",\"id\":\"300000\",\"address\":\"suwon\"}\n",
    "#추가\n",
    "dict[\"gender\"] = \"male\"\n",
    "print(dict)\n",
    "#변경\n",
    "dict[\"address\"] = \"busan\"\n",
    "print(dict)\n",
    "#삭제\n",
    "del dict[\"id\"]\n",
    "print(dict)"
   ]
  },
  {
   "cell_type": "code",
   "execution_count": 30,
   "metadata": {},
   "outputs": [
    {
     "name": "stdout",
     "output_type": "stream",
     "text": [
      "  name  age  stock_age\n",
      "0  A고객   27          2\n",
      "1  B고객   40         10\n",
      "2  C고객   33          5\n",
      "3  D고객   29          1\n"
     ]
    }
   ],
   "source": [
    "#pandas와 딕셔너리\n",
    "import pandas as pd\n",
    "\n",
    "customerData = {\"name\":[\"A고객\",\"B고객\",\"C고객\",\"D고객\"], \"age\":[27,40,33,29],\"stock_age\":[2,10,5,1]}\n",
    "dataFrame = pd.DataFrame(customerData) #key를 column으로 보내고 각 key에 value를 대응시킨다.\n",
    "print(dataFrame)"
   ]
  },
  {
   "cell_type": "code",
   "execution_count": 31,
   "metadata": {},
   "outputs": [
    {
     "name": "stdout",
     "output_type": "stream",
     "text": [
      "   QTY\n",
      "0  100\n",
      "1  130\n",
      "2   40\n",
      "3  240\n",
      "  region\n",
      "0    A01\n",
      "1    A02\n",
      "2    A03\n",
      "3    A04\n"
     ]
    }
   ],
   "source": [
    "#pandas와 리스트\n",
    "import pandas as pd\n",
    "\n",
    "qtyList = [100,130,40,240]\n",
    "qtyListDf = pd.DataFrame(qtyList, columns = [\"QTY\"])\n",
    "print(qtyListDf)\n",
    "\n",
    "regionList = [\"A01\",\"A02\",\"A03\",\"A04\"]\n",
    "regionListDf = pd.DataFrame(regionList, columns = [\"region\"])\n",
    "print(regionListDf)"
   ]
  },
  {
   "cell_type": "code",
   "execution_count": 32,
   "metadata": {},
   "outputs": [
    {
     "data": {
      "text/html": [
       "<div>\n",
       "<style scoped>\n",
       "    .dataframe tbody tr th:only-of-type {\n",
       "        vertical-align: middle;\n",
       "    }\n",
       "\n",
       "    .dataframe tbody tr th {\n",
       "        vertical-align: top;\n",
       "    }\n",
       "\n",
       "    .dataframe thead th {\n",
       "        text-align: right;\n",
       "    }\n",
       "</style>\n",
       "<table border=\"1\" class=\"dataframe\">\n",
       "  <thead>\n",
       "    <tr style=\"text-align: right;\">\n",
       "      <th></th>\n",
       "      <th>QTY</th>\n",
       "      <th>region</th>\n",
       "    </tr>\n",
       "  </thead>\n",
       "  <tbody>\n",
       "    <tr>\n",
       "      <th>0</th>\n",
       "      <td>100</td>\n",
       "      <td>A01</td>\n",
       "    </tr>\n",
       "    <tr>\n",
       "      <th>1</th>\n",
       "      <td>130</td>\n",
       "      <td>A02</td>\n",
       "    </tr>\n",
       "    <tr>\n",
       "      <th>2</th>\n",
       "      <td>40</td>\n",
       "      <td>A03</td>\n",
       "    </tr>\n",
       "    <tr>\n",
       "      <th>3</th>\n",
       "      <td>240</td>\n",
       "      <td>A04</td>\n",
       "    </tr>\n",
       "  </tbody>\n",
       "</table>\n",
       "</div>"
      ],
      "text/plain": [
       "   QTY region\n",
       "0  100    A01\n",
       "1  130    A02\n",
       "2   40    A03\n",
       "3  240    A04"
      ]
     },
     "execution_count": 32,
     "metadata": {},
     "output_type": "execute_result"
    }
   ],
   "source": [
    "#concat으로 합치기\n",
    "df = pd.concat([qtyListDf,regionListDf], axis = 1) # x축을 합친다.\n",
    "df"
   ]
  },
  {
   "cell_type": "code",
   "execution_count": 36,
   "metadata": {},
   "outputs": [
    {
     "data": {
      "text/html": [
       "<div>\n",
       "<style scoped>\n",
       "    .dataframe tbody tr th:only-of-type {\n",
       "        vertical-align: middle;\n",
       "    }\n",
       "\n",
       "    .dataframe tbody tr th {\n",
       "        vertical-align: top;\n",
       "    }\n",
       "\n",
       "    .dataframe thead th {\n",
       "        text-align: right;\n",
       "    }\n",
       "</style>\n",
       "<table border=\"1\" class=\"dataframe\">\n",
       "  <thead>\n",
       "    <tr style=\"text-align: right;\">\n",
       "      <th></th>\n",
       "      <th>0</th>\n",
       "      <th>1</th>\n",
       "    </tr>\n",
       "  </thead>\n",
       "  <tbody>\n",
       "    <tr>\n",
       "      <th>0</th>\n",
       "      <td>100</td>\n",
       "      <td>A01</td>\n",
       "    </tr>\n",
       "    <tr>\n",
       "      <th>1</th>\n",
       "      <td>130</td>\n",
       "      <td>A02</td>\n",
       "    </tr>\n",
       "    <tr>\n",
       "      <th>2</th>\n",
       "      <td>40</td>\n",
       "      <td>A03</td>\n",
       "    </tr>\n",
       "    <tr>\n",
       "      <th>3</th>\n",
       "      <td>240</td>\n",
       "      <td>A04</td>\n",
       "    </tr>\n",
       "  </tbody>\n",
       "</table>\n",
       "</div>"
      ],
      "text/plain": [
       "     0    1\n",
       "0  100  A01\n",
       "1  130  A02\n",
       "2   40  A03\n",
       "3  240  A04"
      ]
     },
     "execution_count": 36,
     "metadata": {},
     "output_type": "execute_result"
    }
   ],
   "source": [
    "#zip으로 합치기\n",
    "zipDf = pd.DataFrame(zip(qtyList,regionList))\n",
    "zipDf"
   ]
  },
  {
   "cell_type": "code",
   "execution_count": 2,
   "metadata": {
    "jupyter": {
     "source_hidden": true
    }
   },
   "outputs": [],
   "source": [
    "#  [리스트 연산] 다음 예제코드를 활용하여 \n",
    "# customerTotalList의 TOTAL_AMOUNT 컬럼의 최소, 최대값을 모두 뺀 평균을 구하세요. \n",
    "# (hint: customerData.sort() 활용, 단 수정제출 시 작성코드도 같이 제출해주세요)\n",
    "# import pandas as pd\n",
    "# customerData = pd.read_csv(\"../dataset/kopo_customerdata.csv\")\n",
    "# customerTotalList = customerData[\"TOTAL_AMOUNT\"].tolist()"
   ]
  },
  {
   "cell_type": "code",
   "execution_count": 50,
   "metadata": {},
   "outputs": [
    {
     "name": "stdout",
     "output_type": "stream",
     "text": [
      "<class 'list'>\n",
      "35248.91490376756\n"
     ]
    }
   ],
   "source": [
    "import pandas as pd #라이브러리 선언\n",
    "# 파일 불러올 때 노트북과 데이터가 같은 디렉토리에 있을 경우 \"./\"로 불러오고\n",
    "# 다른 디렉토리에 있을 경우 \"../해당디렉토리\"로 불러온다\n",
    "customerData = pd.read_csv(\"../dataset/kopo_customerdata.csv\")\n",
    "customerTotalList = customerData[\"TOTAL_AMOUNT\"].tolist() #해당 칼럼만을 리스트로 만든다: .tolist\" \n",
    "print(type(customerTotalList))\n",
    "\n",
    "# 최대값, 최소값 모두를 뺀 평균을 구하시오\n",
    "\n",
    "customerTotalList.sort()\n",
    "Len = len(customerTotalList)\n",
    "\n",
    "Min = min(customerTotalList)\n",
    "Max = max(customerTotalList)\n",
    "\n",
    "cntMin = customerTotalList.count(Min)\n",
    "cntMax = customerTotalList.count(Max)\n",
    "\n",
    "sumMin = Min * cntMin\n",
    "sumMax = Max * cntMax\n",
    "\n",
    "Sum = sum(customerTotalList) - sumMin - sumMax\n",
    "N = Len - cntMin - cntMax\n",
    "Average = Sum / N\n",
    "\n",
    "print(Average)"
   ]
  },
  {
   "cell_type": "code",
   "execution_count": null,
   "metadata": {},
   "outputs": [],
   "source": []
  }
 ],
 "metadata": {
  "kernelspec": {
   "display_name": "Python 3",
   "language": "python",
   "name": "python3"
  },
  "language_info": {
   "codemirror_mode": {
    "name": "ipython",
    "version": 3
   },
   "file_extension": ".py",
   "mimetype": "text/x-python",
   "name": "python",
   "nbconvert_exporter": "python",
   "pygments_lexer": "ipython3",
   "version": "3.7.6"
  }
 },
 "nbformat": 4,
 "nbformat_minor": 4
}
