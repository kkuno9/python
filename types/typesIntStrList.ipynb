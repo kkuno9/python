{
 "cells": [
  {
   "cell_type": "code",
   "execution_count": 1,
   "metadata": {},
   "outputs": [
    {
     "name": "stdout",
     "output_type": "stream",
     "text": [
      "Life is too short\n",
      "You need python\n"
     ]
    }
   ],
   "source": [
    "# \\n: 개행(줄을 바꾸는 이스케이프 코드), but 코드가 지저분해지므로 비추. 그냥 따옴표 연속해서 쓰는게 나음\n",
    "multiline = \"Life is too short\\nYou need python\"\n",
    "print(multiline)"
   ]
  },
  {
   "cell_type": "code",
   "execution_count": 3,
   "metadata": {},
   "outputs": [
    {
     "name": "stdout",
     "output_type": "stream",
     "text": [
      "e\n",
      "e is t\n",
      "e is too short, You need Python\n",
      "Lif\n"
     ]
    },
    {
     "data": {
      "text/plain": [
       "'e'"
      ]
     },
     "execution_count": 3,
     "metadata": {},
     "output_type": "execute_result"
    }
   ],
   "source": [
    "#문자열 인덱싱, 슬라이싱\n",
    "#구간 인덱싱은 끝 번호에 해당하는 것은 미포함 (예. 3:9  ->  3<=f<9)\n",
    "f = \"Life is too short, You need Python\"\n",
    "print(f[3])\n",
    "print(f[3:9])\n",
    "print(f[3:])\n",
    "print(f[:3])\n",
    "f[3]"
   ]
  },
  {
   "cell_type": "code",
   "execution_count": 16,
   "metadata": {},
   "outputs": [
    {
     "name": "stdout",
     "output_type": "stream",
     "text": [
      "2\n"
     ]
    }
   ],
   "source": [
    "#문자 개수 세기 : .count\n",
    "i=\"hobby\"\n",
    "cntb = i.count(\"b\")\n",
    "print(cntb)"
   ]
  },
  {
   "cell_type": "code",
   "execution_count": 18,
   "metadata": {},
   "outputs": [
    {
     "name": "stdout",
     "output_type": "stream",
     "text": [
      "8\n"
     ]
    }
   ],
   "source": [
    "#위치확인: .index :해당 문자가 처음 나온 위치를 출력\n",
    "j=\"Life is too short\"\n",
    "indexT = j.index(\"t\")\n",
    "print(indexT)"
   ]
  },
  {
   "cell_type": "code",
   "execution_count": 9,
   "metadata": {},
   "outputs": [
    {
     "name": "stdout",
     "output_type": "stream",
     "text": [
      "201728\n"
     ]
    }
   ],
   "source": [
    "# index로 구분점 설정\n",
    "yearweek=\"2017W28\"\n",
    "deli=yearweek.index(\"W\")\n",
    "#W를 deli(meter)라는 이름의 index로 설정\n",
    "newYearweek=yearweek[:deli]+yearweek[deli+1:]\n",
    "# [0 ~ 인덱스 미만] + [인덱스+1이상 ~ 끝]\n",
    "print(newYearweek)"
   ]
  },
  {
   "cell_type": "code",
   "execution_count": 10,
   "metadata": {},
   "outputs": [
    {
     "name": "stdout",
     "output_type": "stream",
     "text": [
      "LED_TV\n",
      "led_tv\n"
     ]
    }
   ],
   "source": [
    "#대소문자 바꾸기\n",
    "k = \"Led_tv\"\n",
    "k = k.upper()\n",
    "print(k)\n",
    "k = k.lower()\n",
    "print(k)"
   ]
  },
  {
   "cell_type": "code",
   "execution_count": 14,
   "metadata": {},
   "outputs": [
    {
     "name": "stdout",
     "output_type": "stream",
     "text": [
      "Your leg is too short\n",
      "Your leg is short\n"
     ]
    }
   ],
   "source": [
    "#문자 치환 : .replace\n",
    "l = \"Life is too short\"\n",
    "l = l.replace(\"Life\",\"Your leg\")\n",
    "print(l)\n",
    "l = l.replace (\"too \",\"\")\n",
    "print(l)"
   ]
  },
  {
   "cell_type": "code",
   "execution_count": 15,
   "metadata": {},
   "outputs": [
    {
     "name": "stdout",
     "output_type": "stream",
     "text": [
      "['Your', 'leg', 'is', 'short']\n",
      "<class 'list'>\n"
     ]
    }
   ],
   "source": [
    "#문자 분리 : .split\n",
    "l = l.split(\" \")\n",
    "print(l)\n",
    "print(type(l))"
   ]
  },
  {
   "cell_type": "code",
   "execution_count": 20,
   "metadata": {},
   "outputs": [
    {
     "name": "stdout",
     "output_type": "stream",
     "text": [
      "5\n"
     ]
    }
   ],
   "source": [
    "#리스트 요소의 연산\n",
    "m = [1,2,3]\n",
    "print(2*m[0]+m[2])"
   ]
  },
  {
   "cell_type": "code",
   "execution_count": 24,
   "metadata": {},
   "outputs": [
    {
     "name": "stdout",
     "output_type": "stream",
     "text": [
      "2\n",
      "['a', 'b', 'c', 'a', 'b', 'c']\n"
     ]
    }
   ],
   "source": [
    "#리스트 요소의 연산\n",
    "n = [1,2,3,[\"a\",\"b\",\"c\"]]\n",
    "print(n[1])\n",
    "print(n[3]*2)"
   ]
  },
  {
   "cell_type": "code",
   "execution_count": 26,
   "metadata": {},
   "outputs": [
    {
     "name": "stdout",
     "output_type": "stream",
     "text": [
      "Life\n"
     ]
    }
   ],
   "source": [
    "# 삼중 리스트에서 인덱싱하기\n",
    "o = [1,2,[\"a\",\"b\",[\"Life\",\"is\"]]]\n",
    "# life만 출력하기\n",
    "print(o[2][-1][0])"
   ]
  },
  {
   "cell_type": "code",
   "execution_count": 28,
   "metadata": {},
   "outputs": [
    {
     "name": "stdout",
     "output_type": "stream",
     "text": [
      "[1, 2, 3, 4, 5, 6]\n"
     ]
    }
   ],
   "source": [
    "# 리스트 간 연산\n",
    "q=[1,2,3]\n",
    "r=[4,5,6]\n",
    "print(q+r)"
   ]
  },
  {
   "cell_type": "code",
   "execution_count": 29,
   "metadata": {},
   "outputs": [
    {
     "name": "stdout",
     "output_type": "stream",
     "text": [
      "<class 'str'>\n",
      "[1, 2, 3]\n",
      "3hi\n",
      "3hi\n",
      "3\n",
      "3hi\n"
     ]
    }
   ],
   "source": [
    "#자료형 통일하여 연산하기(or not 불가능)\n",
    "# 3hi를 출력하고 싶다면?\n",
    "t = [1,2,3]\n",
    "u = \"hi\"\n",
    "T = str(t)\n",
    "print(type(T))\n",
    "print(T)\n",
    "print(T[7]+u) # [1,2,3]에서 ,도 스페이스도 문자로 변환되었으므로 카운트시 주의\n",
    "#다른 방법으로 3hi 출력\n",
    "print(str(t[2])+u)\n",
    "#또 다른 방법으로 3hi 출력\n",
    "T1 = str(t[2])\n",
    "print(T1)\n",
    "v = T1 + u\n",
    "print(v)"
   ]
  },
  {
   "cell_type": "code",
   "execution_count": 32,
   "metadata": {},
   "outputs": [
    {
     "name": "stdout",
     "output_type": "stream",
     "text": [
      "414.0\n"
     ]
    }
   ],
   "source": [
    "#quiz4 [120,150,300,500,1000,100,2000] 값에서 최소 최대 값을 뺀 평균을 average 이름의 변수에 담으시오\n",
    "quiz4 = [120,150,300,500,1000,100,2000]\n",
    "quiz4.remove(min(quiz4))\n",
    "quiz4.remove(max(quiz4))\n",
    "N = len(quiz4)\n",
    "total = sum(quiz4)\n",
    "average = total / N\n",
    "print(average)"
   ]
  },
  {
   "cell_type": "code",
   "execution_count": 42,
   "metadata": {},
   "outputs": [
    {
     "name": "stdout",
     "output_type": "stream",
     "text": [
      "['SEC', '201828', '250']\n",
      "SEC 201828 250\n"
     ]
    }
   ],
   "source": [
    "#Sec 2018W28 250 문자열 생성 후 stock_name3, date3, value3로 각각 의미하는 문자열을 생성하세요.\n",
    "#(단, 모두 대문자여야 하며, 'W'를 삭제해야 함)\n",
    "\n",
    "quiz1 = \"Sec 2018W28 250\"\n",
    "quiz1 = quiz1.upper()\n",
    "quiz1 = quiz1.replace(\"W\",\"\")\n",
    "quiz1Split = quiz1.split(\" \")    ##split은 동일한 변수로의 재치환 안 된다.\n",
    "print(quiz1Split)\n",
    "stock_name3 = quiz1Split[0]\n",
    "date3 = quiz1Split[1]\n",
    "value3 = quiz1Split[2]\n",
    "print(stock_name3,date3,value3)"
   ]
  },
  {
   "cell_type": "code",
   "execution_count": null,
   "metadata": {},
   "outputs": [],
   "source": []
  }
 ],
 "metadata": {
  "kernelspec": {
   "display_name": "Python 3",
   "language": "python",
   "name": "python3"
  },
  "language_info": {
   "codemirror_mode": {
    "name": "ipython",
    "version": 3
   },
   "file_extension": ".py",
   "mimetype": "text/x-python",
   "name": "python",
   "nbconvert_exporter": "python",
   "pygments_lexer": "ipython3",
   "version": "3.7.6"
  }
 },
 "nbformat": 4,
 "nbformat_minor": 4
}
